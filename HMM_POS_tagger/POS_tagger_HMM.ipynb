{
  "nbformat": 4,
  "nbformat_minor": 0,
  "metadata": {
    "kernelspec": {
      "display_name": "Python 3",
      "language": "python",
      "name": "python3"
    },
    "language_info": {
      "codemirror_mode": {
        "name": "ipython",
        "version": 2
      },
      "file_extension": ".py",
      "mimetype": "text/x-python",
      "name": "python",
      "nbconvert_exporter": "python",
      "pygments_lexer": "ipython2",
      "version": "2.7.6"
    },
    "pycharm": {
      "stem_cell": {
        "cell_type": "raw",
        "source": [],
        "metadata": {
          "collapsed": false
        }
      }
    },
    "colab": {
      "name": "POS_tagger_Sabirov.ipynb",
      "provenance": [],
      "collapsed_sections": [],
      "toc_visible": true
    }
  },
  "cells": [
    {
      "cell_type": "markdown",
      "metadata": {
        "collapsed": false,
        "pycharm": {
          "name": "#%% md\n"
        },
        "id": "kV5cRKzbnJ0M",
        "colab_type": "text"
      },
      "source": [
        "# POS-tagging using HMM (Hidden Markov model)\n",
        "\n",
        "This is HMM part-of-speech tagger\n",
        "\n",
        "**Author**: Ruslan Sabirov\n",
        "\n",
        "**Collab link**: [link](https://drive.google.com/file/d/1BRLI7pSZJw3o0jnYtLUVNIzn7lv6vnb3/view?usp=sharing)\n"
      ]
    },
    {
      "cell_type": "code",
      "metadata": {
        "id": "WrXEzHb-nM22",
        "colab_type": "code",
        "outputId": "02e1b15c-4058-41e6-83fd-b5ed47fb5e87",
        "colab": {
          "base_uri": "https://localhost:8080/",
          "height": 547
        }
      },
      "source": [
        "!pip install conllu\n",
        "!pip install tqdm\n",
        "!pip install termcolor\n",
        "!pip install sklearn\n",
        "!pip install sklearn\n",
        "!pip install seaborn\n",
        "!pip install pandas"
      ],
      "execution_count": 0,
      "outputs": [
        {
          "output_type": "stream",
          "text": [
            "Requirement already satisfied: conllu in /usr/local/lib/python3.6/dist-packages (2.3.2)\n",
            "Requirement already satisfied: tqdm in /usr/local/lib/python3.6/dist-packages (4.28.1)\n",
            "Requirement already satisfied: termcolor in /usr/local/lib/python3.6/dist-packages (1.1.0)\n",
            "Requirement already satisfied: sklearn in /usr/local/lib/python3.6/dist-packages (0.0)\n",
            "Requirement already satisfied: scikit-learn in /usr/local/lib/python3.6/dist-packages (from sklearn) (0.22.2.post1)\n",
            "Requirement already satisfied: scipy>=0.17.0 in /usr/local/lib/python3.6/dist-packages (from scikit-learn->sklearn) (1.4.1)\n",
            "Requirement already satisfied: numpy>=1.11.0 in /usr/local/lib/python3.6/dist-packages (from scikit-learn->sklearn) (1.18.1)\n",
            "Requirement already satisfied: joblib>=0.11 in /usr/local/lib/python3.6/dist-packages (from scikit-learn->sklearn) (0.14.1)\n",
            "Requirement already satisfied: sklearn in /usr/local/lib/python3.6/dist-packages (0.0)\n",
            "Requirement already satisfied: scikit-learn in /usr/local/lib/python3.6/dist-packages (from sklearn) (0.22.2.post1)\n",
            "Requirement already satisfied: numpy>=1.11.0 in /usr/local/lib/python3.6/dist-packages (from scikit-learn->sklearn) (1.18.1)\n",
            "Requirement already satisfied: joblib>=0.11 in /usr/local/lib/python3.6/dist-packages (from scikit-learn->sklearn) (0.14.1)\n",
            "Requirement already satisfied: scipy>=0.17.0 in /usr/local/lib/python3.6/dist-packages (from scikit-learn->sklearn) (1.4.1)\n",
            "Requirement already satisfied: seaborn in /usr/local/lib/python3.6/dist-packages (0.10.0)\n",
            "Requirement already satisfied: matplotlib>=2.1.2 in /usr/local/lib/python3.6/dist-packages (from seaborn) (3.2.0)\n",
            "Requirement already satisfied: pandas>=0.22.0 in /usr/local/lib/python3.6/dist-packages (from seaborn) (0.25.3)\n",
            "Requirement already satisfied: numpy>=1.13.3 in /usr/local/lib/python3.6/dist-packages (from seaborn) (1.18.1)\n",
            "Requirement already satisfied: scipy>=1.0.1 in /usr/local/lib/python3.6/dist-packages (from seaborn) (1.4.1)\n",
            "Requirement already satisfied: pyparsing!=2.0.4,!=2.1.2,!=2.1.6,>=2.0.1 in /usr/local/lib/python3.6/dist-packages (from matplotlib>=2.1.2->seaborn) (2.4.6)\n",
            "Requirement already satisfied: kiwisolver>=1.0.1 in /usr/local/lib/python3.6/dist-packages (from matplotlib>=2.1.2->seaborn) (1.1.0)\n",
            "Requirement already satisfied: python-dateutil>=2.1 in /usr/local/lib/python3.6/dist-packages (from matplotlib>=2.1.2->seaborn) (2.8.1)\n",
            "Requirement already satisfied: cycler>=0.10 in /usr/local/lib/python3.6/dist-packages (from matplotlib>=2.1.2->seaborn) (0.10.0)\n",
            "Requirement already satisfied: pytz>=2017.2 in /usr/local/lib/python3.6/dist-packages (from pandas>=0.22.0->seaborn) (2018.9)\n",
            "Requirement already satisfied: setuptools in /usr/local/lib/python3.6/dist-packages (from kiwisolver>=1.0.1->matplotlib>=2.1.2->seaborn) (45.2.0)\n",
            "Requirement already satisfied: six>=1.5 in /usr/local/lib/python3.6/dist-packages (from python-dateutil>=2.1->matplotlib>=2.1.2->seaborn) (1.12.0)\n",
            "Requirement already satisfied: pandas in /usr/local/lib/python3.6/dist-packages (0.25.3)\n",
            "Requirement already satisfied: numpy>=1.13.3 in /usr/local/lib/python3.6/dist-packages (from pandas) (1.18.1)\n",
            "Requirement already satisfied: python-dateutil>=2.6.1 in /usr/local/lib/python3.6/dist-packages (from pandas) (2.8.1)\n",
            "Requirement already satisfied: pytz>=2017.2 in /usr/local/lib/python3.6/dist-packages (from pandas) (2018.9)\n",
            "Requirement already satisfied: six>=1.5 in /usr/local/lib/python3.6/dist-packages (from python-dateutil>=2.6.1->pandas) (1.12.0)\n"
          ],
          "name": "stdout"
        }
      ]
    },
    {
      "cell_type": "code",
      "metadata": {
        "id": "AGueL-XatQM3",
        "colab_type": "code",
        "outputId": "a18d4ec5-94cf-4fed-afff-ca67e8cb7752",
        "colab": {
          "base_uri": "https://localhost:8080/",
          "height": 54
        }
      },
      "source": [
        "from google.colab import drive\n",
        "drive.mount('/content/drive/')\n",
        "!cd 'drive/My Drive/S20/NLP'"
      ],
      "execution_count": 0,
      "outputs": [
        {
          "output_type": "stream",
          "text": [
            "Drive already mounted at /content/drive/; to attempt to forcibly remount, call drive.mount(\"/content/drive/\", force_remount=True).\n"
          ],
          "name": "stdout"
        }
      ]
    },
    {
      "cell_type": "code",
      "metadata": {
        "pycharm": {
          "name": "#%%\n",
          "is_executing": false
        },
        "id": "Xf3Zx9mVnJ0Q",
        "colab_type": "code",
        "colab": {}
      },
      "source": [
        "from conllu import parse_incr\n",
        "from tqdm import tqdm\n",
        "from termcolor import colored\n",
        "\n",
        "class CountDict(dict):\n",
        "    \"\"\"\n",
        "    Class that is used as counter, inherited from dict. \n",
        "    \"\"\"\n",
        "    def __getitem__(self, item):\n",
        "        \"\"\"\n",
        "        Gets item without exceptions\n",
        "        :param item:  key you want to get\n",
        "        :return: value, associated with `item` (if item in the `keys`), 0 otherwise\n",
        "        \"\"\"\n",
        "        if item not in self:\n",
        "            return 0\n",
        "        return super().__getitem__(item)\n",
        "    \n",
        "    def make_probabilistic(self):\n",
        "        \"\"\"\n",
        "        Converts values from counts to probabilities\n",
        "        \"\"\"\n",
        "        n = sum(self.values())\n",
        "        for item in self:\n",
        "            self[item] /= n\n",
        "\n",
        "\n",
        "OPEN_TAGS = ['ADJ', 'ADV', 'INTJ', 'NOUN','PROPN', 'VERB']  # open-set\n",
        "CLOSED_TAGS = ['ADP', 'AUX', 'CCONJ', 'DET', 'NUM', 'PART',\t'PRON', 'SCONJ']  # closed-set\n",
        "OTHER_TAGS = ['PUNCT', 'SYM', 'X', 'START', 'END']\n",
        "TAGS = OPEN_TAGS + CLOSED_TAGS + OTHER_TAGS  # list of possible tags\n",
        "tags_distribution = CountDict()  # how many times each tag is observed"
      ],
      "execution_count": 0,
      "outputs": []
    },
    {
      "cell_type": "markdown",
      "metadata": {
        "collapsed": false,
        "pycharm": {
          "name": "#%% md\n"
        },
        "id": "WgFydFDWnJ0W",
        "colab_type": "text"
      },
      "source": [
        "## Viterbi algorithm\n",
        "As an input Viterbi algorithm takes `observation` (sentence to be tagged), \n",
        "`transition` (matrix of tags transition probabilities),\n",
        "`emission` (matrix of tokens probabilities for a given tag).\n",
        "\n",
        "Viterbi algorithm is an example of dynamic programming. It uses previously computed answers for smaller tasks \n",
        "to compute the answer for big task. Time complexity of the algorithm is `O(|sentence| * |tags| ^ 2`, \n",
        "where `|sentence|` is lenght of input sentence and `|tags|` is length of set of all possible POS-tags."
      ]
    },
    {
      "cell_type": "code",
      "metadata": {
        "pycharm": {
          "name": "#%%\n",
          "is_executing": false
        },
        "id": "CeEgU2ZZnJ0Y",
        "colab_type": "code",
        "colab": {}
      },
      "source": [
        "def viterbi(observation, transition, emission, most_frequent_tag):\n",
        "    # Add START and END tokens to the observation if there is no\n",
        "    if observation[0] != 'START' and observation[-1] != 'END':\n",
        "        observation = ['START'] + observation + ['END']\n",
        "\n",
        "    dp = [\n",
        "        {tag: 0 for tag in TAGS}\n",
        "        for _ in range(len(observation))\n",
        "    ]\n",
        "    path = [\n",
        "        {tag: 0 for tag in TAGS}\n",
        "        for _ in range(len(observation))\n",
        "    ]\n",
        "    \n",
        "    dp[0]['START'] = 1\n",
        "    for step in range(1, len(dp)):        \n",
        "        token = observation[step]\n",
        "        \n",
        "        for tag in dp[step]:            \n",
        "            prev_tag = 'END'\n",
        "            for t in dp[step-1]: \n",
        "                if dp[step - 1][t] * transition[t][tag] >= dp[step - 1][prev_tag] * transition[prev_tag][tag]:\n",
        "                    prev_tag = t\n",
        "            if prev_tag == 'END': # unknown word\n",
        "                prev_tag = most_frequent_tag\n",
        "            \n",
        "            path[step][tag] = prev_tag\n",
        "            prev_prob = dp[step - 1][prev_tag]\n",
        "            emission_prob = emission[tag][token]\n",
        "            transition_prob = transition[prev_tag][tag]\n",
        "            cur_prob = prev_prob * transition_prob * emission_prob\n",
        "            dp[step][tag] = cur_prob\n",
        "    \n",
        "    tags = []\n",
        "    tag = 'END'\n",
        "    for i in range(len(dp) - 1, -1, -1):\n",
        "        tags.append(tag)\n",
        "        tag = path[i][tag]   \n",
        "    tags.reverse()\n",
        "    return tags"
      ],
      "execution_count": 0,
      "outputs": []
    },
    {
      "cell_type": "markdown",
      "metadata": {
        "collapsed": false,
        "pycharm": {
          "name": "#%% md\n"
        },
        "id": "3cflVm2inJ0l",
        "colab_type": "text"
      },
      "source": [
        "## Training and testing\n",
        "\n",
        "I have divided algorithm into **two parts**: training and testing:\n",
        "* Training part learns the structure of the data, determines POS-tags distribution and \n",
        "constructs `transition` and `emission` matrices.\n",
        "* Testing part uses learned properties for predicting the POS-tag. It applies Viterbi algorithm. "
      ]
    },
    {
      "cell_type": "code",
      "metadata": {
        "pycharm": {
          "name": "#%%\n",
          "is_executing": false
        },
        "id": "OUtVzulrnJ0n",
        "colab_type": "code",
        "colab": {}
      },
      "source": [
        "def train_model(file):\n",
        "    global tags_distribution\n",
        "    \n",
        "    transitions = {\n",
        "        tag: CountDict()\n",
        "        for tag in TAGS\n",
        "    }\n",
        "    emissions = {\n",
        "        tag: CountDict()\n",
        "        for tag in TAGS\n",
        "    }\n",
        "    emissions['START'] = CountDict()\n",
        "    emissions['START']['START'] = 1\n",
        "    emissions['END'] = CountDict()\n",
        "    emissions['END']['END'] = 1\n",
        "    \n",
        "    tags_distribution = CountDict()\n",
        "    \n",
        "    for sample in tqdm(parse_incr(file), desc='Training'):\n",
        "        \n",
        "        tokens = ['START'] + [token['form'].lower() for token in sample.tokens] + ['END']\n",
        "        pos_tags = ['START'] + [token['upostag'] for token in sample.tokens] + ['END']\n",
        "        for i in range(1, len(tokens)):\n",
        "            token = tokens[i]\n",
        "            tag = pos_tags[i]\n",
        "            prev_tag = pos_tags[i - 1]\n",
        "            tags_distribution[tag] += 1\n",
        "            transitions[prev_tag][tag] += 1\n",
        "            emissions[tag][token] += 1\n",
        "       \n",
        "    most_frequent_tag = OPEN_TAGS[0]\n",
        "    for tag in OPEN_TAGS:\n",
        "        if tags_distribution[tag] > tags_distribution[most_frequent_tag]:\n",
        "            most_frequent_tag = tag\n",
        "            \n",
        "    for x in transitions:\n",
        "        transitions[x].make_probabilistic()\n",
        "    for x in emissions:\n",
        "        emissions[x].make_probabilistic()\n",
        "    \n",
        "    return transitions, emissions, most_frequent_tag"
      ],
      "execution_count": 0,
      "outputs": []
    },
    {
      "cell_type": "code",
      "metadata": {
        "pycharm": {
          "name": "#%%\n",
          "is_executing": false
        },
        "id": "S69noqUPnJ0u",
        "colab_type": "code",
        "colab": {}
      },
      "source": [
        "samples_classified = []\n",
        "tokens_classified = []\n",
        "\n",
        "\n",
        "def test_model(file, transitions, emissions, most_frequent_tag):\n",
        "    global samples_classified, tokens_classified\n",
        "\n",
        "    error_samples = 0\n",
        "    total_samples = 0\n",
        "    error_tags = 0\n",
        "    total_tags = 0\n",
        "    \n",
        "    for sample in tqdm(parse_incr(file), desc='Testing'):\n",
        "        tokens = ['START'] + [token['form'].lower() for token in sample.tokens] + ['END']\n",
        "        correct_tags = ['START'] + [token['upostag'] for token in sample.tokens] + ['END']\n",
        "        predicted_tags = viterbi(tokens, transitions, emissions, most_frequent_tag)\n",
        "        total_samples += 1\n",
        "        if correct_tags != predicted_tags:\n",
        "            error_samples += 1\n",
        "        samples_classified.append((tokens, correct_tags, predicted_tags))\n",
        "            \n",
        "        for i in range(len(correct_tags)):\n",
        "            total_tags += 1\n",
        "            tokens_classified.append((tokens[i], correct_tags[i], predicted_tags[i]))\n",
        "            if correct_tags[i] != predicted_tags[i]:\n",
        "                error_tags += 1\n",
        "                \n",
        "    sentence_accuracy = (1 - error_samples/total_samples) * 100\n",
        "    tag_accuracy = (1 - error_tags/total_tags) * 100\n",
        "    print()\n",
        "    print(colored(f'Sentence accuracy: {sentence_accuracy}', 'red'))\n",
        "    print(colored(f'Tags accuracy: {tag_accuracy}', 'red'))\n"
      ],
      "execution_count": 0,
      "outputs": []
    },
    {
      "cell_type": "markdown",
      "metadata": {
        "collapsed": false,
        "pycharm": {
          "name": "#%% md\n"
        },
        "id": "XxbMInRcnJ00",
        "colab_type": "text"
      },
      "source": [
        "## The data\n",
        "\n",
        "I am using [UD-English-EWT dataset](https://universaldependencies.org/), which is the larges among UD-English dataset\n",
        "(254 856 tokens, 16 622 sentences). It consist of samples from blogs, e-mails, news, social, \n",
        "I am assuming that language would be simple and number of domain-specific words should not be very large \n",
        "as it would be with sentences from Wikipedia, or Legal or Academic spheres.\n",
        "\n",
        "The corpus of sentences annotated using Universal Dependencies annotation.\n",
        "\n",
        "Data is already splitted into training and testing parts in proportion: 75% for training set and 15% for testing set.  \n",
        "\n",
        "Data is stored in the format `conllu`, which is very popular for NLP tasks."
      ]
    },
    {
      "cell_type": "markdown",
      "metadata": {
        "collapsed": false,
        "pycharm": {
          "name": "#%% md\n"
        },
        "id": "px2EtWIonJ02",
        "colab_type": "text"
      },
      "source": [
        "## Accuracies\n",
        "\n",
        "I have decided to count both sentence accuracy and token accuracy. Sentence accuracy is the proportion of sentences \n",
        "that were classified correctly.  Tokens accuracy is the proportion of tokens \n",
        "that were classified correctly (no matter of sentence). \n",
        "Here is a table of accuracies depending on used algorithm:\n",
        "* Standart Viterbi algorithm takes any random tag for unknown word.\n",
        "* Most frequent tag algorithm always uses the most frequent tag for all unknown words.\n",
        "\n",
        "ALGORITHM NAME ⠀| SAMPLE ACCURACY ⠀| TOKEN ACCURACY\n",
        "\n",
        "Standart Viterbi⠀⠀ ⠀| 34% ⠀⠀⠀⠀⠀⠀⠀⠀⠀⠀⠀| 61%\n",
        "\n",
        "Most frequent tag⠀⠀| 35% ⠀⠀⠀⠀⠀⠀ ⠀ ⠀⠀⠀ | 69%\n",
        "\n",
        "If we use the same dataset (en_ewt-ud-train) for both training and testing accuracies would increase to 52% and 95% respectively. The reason of that is because of fact that there will be no unknown words during testing."
      ]
    },
    {
      "cell_type": "code",
      "metadata": {
        "pycharm": {
          "name": "#%%\n",
          "is_executing": false
        },
        "id": "OLFBUcBNnJ03",
        "colab_type": "code",
        "outputId": "7c661cdb-1ef1-47c6-91d2-776c9fc1101e",
        "colab": {
          "base_uri": "https://localhost:8080/",
          "height": 51
        }
      },
      "source": [
        "!pwd\n",
        "\n",
        "dataset = 'drive/My Drive/S20/NLP/UD_English-EWT/en_ewt-ud-{}.conllu'\n",
        "\n",
        "train_name = dataset.format('train')\n",
        "train_file = open(train_name, 'r', encoding='utf-8')\n",
        "\n",
        "transitions, emissions, most_frequent_tag = train_model(train_file)\n"
      ],
      "execution_count": 0,
      "outputs": [
        {
          "output_type": "stream",
          "text": [
            "/content\n"
          ],
          "name": "stdout"
        },
        {
          "output_type": "stream",
          "text": [
            "Training: 12543it [00:05, 2237.22it/s]\n"
          ],
          "name": "stderr"
        }
      ]
    },
    {
      "cell_type": "code",
      "metadata": {
        "pycharm": {
          "name": "#%%\n",
          "is_executing": false
        },
        "id": "XTJyu4YbnJ0-",
        "colab_type": "code",
        "outputId": "d0ee7747-cdc5-428f-a7ce-04c35b4d204b",
        "colab": {
          "base_uri": "https://localhost:8080/",
          "height": 85
        }
      },
      "source": [
        "test_name = dataset.format('test')\n",
        "test_file = open(test_name, 'r', encoding='utf-8')\n",
        "test_model(test_file, transitions, emissions, most_frequent_tag)\n"
      ],
      "execution_count": 0,
      "outputs": [
        {
          "output_type": "stream",
          "text": [
            "Testing: 2077it [00:11, 174.57it/s]"
          ],
          "name": "stderr"
        },
        {
          "output_type": "stream",
          "text": [
            "\n",
            "\u001b[31mSentence accuracy: 34.71352912855079\u001b[0m\n",
            "\u001b[31mTags accuracy: 68.57201463197839\u001b[0m\n"
          ],
          "name": "stdout"
        },
        {
          "output_type": "stream",
          "text": [
            "\n"
          ],
          "name": "stderr"
        }
      ]
    },
    {
      "cell_type": "markdown",
      "metadata": {
        "id": "Rf0cct9rrZ7M",
        "colab_type": "text"
      },
      "source": [
        "## Examples of classified sentences\n",
        "\n",
        "Correctly classified sentences are represented with green, incorrect ones with red."
      ]
    },
    {
      "cell_type": "code",
      "metadata": {
        "id": "a6USLDLDu66F",
        "colab_type": "code",
        "outputId": "93c93642-4696-4e2d-b508-d781cb22e882",
        "colab": {
          "base_uri": "https://localhost:8080/",
          "height": 887
        }
      },
      "source": [
        "def print_tagged_sentence(sentence, tags, color):\n",
        "    sentence = sentence[1:-1]\n",
        "    tags = tags[1:-1]\n",
        "    for i in range(len(sentence)):\n",
        "        print(sentence[i], end='\\\\')\n",
        "        print(colored(tags[i], color), end='   ')\n",
        "    print()\n",
        "\n",
        "for i in range(10):\n",
        "    example = samples_classified[i]\n",
        "    sent, true, pred = example\n",
        "    if true == pred:\n",
        "        print('Correctly')\n",
        "        print_tagged_sentence(sent, true, 'blue')\n",
        "        print_tagged_sentence(sent, pred, 'green')\n",
        "    else:\n",
        "        print('Incorrectly')\n",
        "        print_tagged_sentence(sent, true, 'blue')\n",
        "        print_tagged_sentence(sent, pred, 'red')\n",
        "    print()\n",
        "    print()\n",
        "    \n"
      ],
      "execution_count": 0,
      "outputs": [
        {
          "output_type": "stream",
          "text": [
            "Incorrectly\n",
            "what\\\u001b[34mPRON\u001b[0m   if\\\u001b[34mSCONJ\u001b[0m   google\\\u001b[34mPROPN\u001b[0m   morphed\\\u001b[34mVERB\u001b[0m   into\\\u001b[34mADP\u001b[0m   googleos\\\u001b[34mPROPN\u001b[0m   ?\\\u001b[34mPUNCT\u001b[0m   \n",
            "what\\\u001b[31mPRON\u001b[0m   if\\\u001b[31mSCONJ\u001b[0m   google\\\u001b[31mPROPN\u001b[0m   morphed\\\u001b[31mNOUN\u001b[0m   into\\\u001b[31mNOUN\u001b[0m   googleos\\\u001b[31mNOUN\u001b[0m   ?\\\u001b[31mNOUN\u001b[0m   \n",
            "\n",
            "\n",
            "Incorrectly\n",
            "what\\\u001b[34mPRON\u001b[0m   if\\\u001b[34mSCONJ\u001b[0m   google\\\u001b[34mPROPN\u001b[0m   expanded\\\u001b[34mVERB\u001b[0m   on\\\u001b[34mADP\u001b[0m   its\\\u001b[34mPRON\u001b[0m   search\\\u001b[34mNOUN\u001b[0m   -\\\u001b[34mPUNCT\u001b[0m   engine\\\u001b[34mNOUN\u001b[0m   (\\\u001b[34mPUNCT\u001b[0m   and\\\u001b[34mCCONJ\u001b[0m   now\\\u001b[34mADV\u001b[0m   e-mail\\\u001b[34mNOUN\u001b[0m   )\\\u001b[34mPUNCT\u001b[0m   wares\\\u001b[34mNOUN\u001b[0m   into\\\u001b[34mADP\u001b[0m   a\\\u001b[34mDET\u001b[0m   full\\\u001b[34mADV\u001b[0m   -\\\u001b[34mPUNCT\u001b[0m   fledged\\\u001b[34mADJ\u001b[0m   operating\\\u001b[34mNOUN\u001b[0m   system\\\u001b[34mNOUN\u001b[0m   ?\\\u001b[34mPUNCT\u001b[0m   \n",
            "what\\\u001b[31mPRON\u001b[0m   if\\\u001b[31mSCONJ\u001b[0m   google\\\u001b[31mPROPN\u001b[0m   expanded\\\u001b[31mVERB\u001b[0m   on\\\u001b[31mADP\u001b[0m   its\\\u001b[31mPRON\u001b[0m   search\\\u001b[31mNOUN\u001b[0m   -\\\u001b[31mPUNCT\u001b[0m   engine\\\u001b[31mNOUN\u001b[0m   (\\\u001b[31mPUNCT\u001b[0m   and\\\u001b[31mCCONJ\u001b[0m   now\\\u001b[31mADV\u001b[0m   e-mail\\\u001b[31mNOUN\u001b[0m   )\\\u001b[31mPUNCT\u001b[0m   wares\\\u001b[31mNOUN\u001b[0m   into\\\u001b[31mNOUN\u001b[0m   a\\\u001b[31mNOUN\u001b[0m   full\\\u001b[31mNOUN\u001b[0m   -\\\u001b[31mNOUN\u001b[0m   fledged\\\u001b[31mNOUN\u001b[0m   operating\\\u001b[31mNOUN\u001b[0m   system\\\u001b[31mNOUN\u001b[0m   ?\\\u001b[31mNOUN\u001b[0m   \n",
            "\n",
            "\n",
            "Incorrectly\n",
            "[\\\u001b[34mPUNCT\u001b[0m   via\\\u001b[34mADP\u001b[0m   microsoft\\\u001b[34mPROPN\u001b[0m   watch\\\u001b[34mPROPN\u001b[0m   from\\\u001b[34mADP\u001b[0m   mary\\\u001b[34mPROPN\u001b[0m   jo\\\u001b[34mPROPN\u001b[0m   foley\\\u001b[34mPROPN\u001b[0m   ]\\\u001b[34mPUNCT\u001b[0m   \n",
            "[\\\u001b[31mPUNCT\u001b[0m   via\\\u001b[31mADP\u001b[0m   microsoft\\\u001b[31mPROPN\u001b[0m   watch\\\u001b[31mVERB\u001b[0m   from\\\u001b[31mADP\u001b[0m   mary\\\u001b[31mPROPN\u001b[0m   jo\\\u001b[31mNOUN\u001b[0m   foley\\\u001b[31mNOUN\u001b[0m   ]\\\u001b[31mNOUN\u001b[0m   \n",
            "\n",
            "\n",
            "Incorrectly\n",
            "(\\\u001b[34mPUNCT\u001b[0m   and\\\u001b[34mCCONJ\u001b[0m   ,\\\u001b[34mPUNCT\u001b[0m   by\\\u001b[34mADP\u001b[0m   the\\\u001b[34mDET\u001b[0m   way\\\u001b[34mNOUN\u001b[0m   ,\\\u001b[34mPUNCT\u001b[0m   is\\\u001b[34mAUX\u001b[0m   anybody\\\u001b[34mPRON\u001b[0m   else\\\u001b[34mADJ\u001b[0m   just\\\u001b[34mADV\u001b[0m   a\\\u001b[34mDET\u001b[0m   little\\\u001b[34mADJ\u001b[0m   nostalgic\\\u001b[34mNOUN\u001b[0m   for\\\u001b[34mADP\u001b[0m   the\\\u001b[34mDET\u001b[0m   days\\\u001b[34mNOUN\u001b[0m   when\\\u001b[34mADV\u001b[0m   that\\\u001b[34mPRON\u001b[0m   was\\\u001b[34mAUX\u001b[0m   a\\\u001b[34mDET\u001b[0m   good\\\u001b[34mADJ\u001b[0m   thing\\\u001b[34mNOUN\u001b[0m   ?\\\u001b[34mPUNCT\u001b[0m   )\\\u001b[34mPUNCT\u001b[0m   \n",
            "(\\\u001b[31mPUNCT\u001b[0m   and\\\u001b[31mCCONJ\u001b[0m   ,\\\u001b[31mPUNCT\u001b[0m   by\\\u001b[31mADP\u001b[0m   the\\\u001b[31mDET\u001b[0m   way\\\u001b[31mNOUN\u001b[0m   ,\\\u001b[31mPUNCT\u001b[0m   is\\\u001b[31mAUX\u001b[0m   anybody\\\u001b[31mPRON\u001b[0m   else\\\u001b[31mADV\u001b[0m   just\\\u001b[31mADV\u001b[0m   a\\\u001b[31mDET\u001b[0m   little\\\u001b[31mADJ\u001b[0m   nostalgic\\\u001b[31mNOUN\u001b[0m   for\\\u001b[31mNOUN\u001b[0m   the\\\u001b[31mNOUN\u001b[0m   days\\\u001b[31mNOUN\u001b[0m   when\\\u001b[31mNOUN\u001b[0m   that\\\u001b[31mNOUN\u001b[0m   was\\\u001b[31mNOUN\u001b[0m   a\\\u001b[31mNOUN\u001b[0m   good\\\u001b[31mNOUN\u001b[0m   thing\\\u001b[31mNOUN\u001b[0m   ?\\\u001b[31mNOUN\u001b[0m   )\\\u001b[31mNOUN\u001b[0m   \n",
            "\n",
            "\n",
            "Incorrectly\n",
            "this\\\u001b[34mDET\u001b[0m   buzzmachine\\\u001b[34mPROPN\u001b[0m   post\\\u001b[34mNOUN\u001b[0m   argues\\\u001b[34mVERB\u001b[0m   that\\\u001b[34mSCONJ\u001b[0m   google\\\u001b[34mPROPN\u001b[0m   's\\\u001b[34mPART\u001b[0m   rush\\\u001b[34mNOUN\u001b[0m   toward\\\u001b[34mADP\u001b[0m   ubiquity\\\u001b[34mNOUN\u001b[0m   might\\\u001b[34mAUX\u001b[0m   backfire\\\u001b[34mVERB\u001b[0m   --\\\u001b[34mPUNCT\u001b[0m   which\\\u001b[34mPRON\u001b[0m   we\\\u001b[34mPRON\u001b[0m   've\\\u001b[34mAUX\u001b[0m   all\\\u001b[34mADV\u001b[0m   heard\\\u001b[34mVERB\u001b[0m   before\\\u001b[34mADV\u001b[0m   ,\\\u001b[34mPUNCT\u001b[0m   but\\\u001b[34mCCONJ\u001b[0m   it\\\u001b[34mPRON\u001b[0m   's\\\u001b[34mAUX\u001b[0m   particularly\\\u001b[34mADV\u001b[0m   well\\\u001b[34mADV\u001b[0m   -\\\u001b[34mPUNCT\u001b[0m   put\\\u001b[34mVERB\u001b[0m   in\\\u001b[34mADP\u001b[0m   this\\\u001b[34mDET\u001b[0m   post\\\u001b[34mNOUN\u001b[0m   .\\\u001b[34mPUNCT\u001b[0m   \n",
            "this\\\u001b[31mDET\u001b[0m   buzzmachine\\\u001b[31mNOUN\u001b[0m   post\\\u001b[31mNOUN\u001b[0m   argues\\\u001b[31mNOUN\u001b[0m   that\\\u001b[31mNOUN\u001b[0m   google\\\u001b[31mNOUN\u001b[0m   's\\\u001b[31mNOUN\u001b[0m   rush\\\u001b[31mNOUN\u001b[0m   toward\\\u001b[31mNOUN\u001b[0m   ubiquity\\\u001b[31mNOUN\u001b[0m   might\\\u001b[31mNOUN\u001b[0m   backfire\\\u001b[31mNOUN\u001b[0m   --\\\u001b[31mNOUN\u001b[0m   which\\\u001b[31mNOUN\u001b[0m   we\\\u001b[31mNOUN\u001b[0m   've\\\u001b[31mNOUN\u001b[0m   all\\\u001b[31mNOUN\u001b[0m   heard\\\u001b[31mNOUN\u001b[0m   before\\\u001b[31mNOUN\u001b[0m   ,\\\u001b[31mNOUN\u001b[0m   but\\\u001b[31mNOUN\u001b[0m   it\\\u001b[31mNOUN\u001b[0m   's\\\u001b[31mNOUN\u001b[0m   particularly\\\u001b[31mNOUN\u001b[0m   well\\\u001b[31mNOUN\u001b[0m   -\\\u001b[31mNOUN\u001b[0m   put\\\u001b[31mNOUN\u001b[0m   in\\\u001b[31mNOUN\u001b[0m   this\\\u001b[31mNOUN\u001b[0m   post\\\u001b[31mNOUN\u001b[0m   .\\\u001b[31mNOUN\u001b[0m   \n",
            "\n",
            "\n",
            "Correctly\n",
            "google\\\u001b[34mPROPN\u001b[0m   is\\\u001b[34mAUX\u001b[0m   a\\\u001b[34mDET\u001b[0m   nice\\\u001b[34mADJ\u001b[0m   search\\\u001b[34mNOUN\u001b[0m   engine\\\u001b[34mNOUN\u001b[0m   .\\\u001b[34mPUNCT\u001b[0m   \n",
            "google\\\u001b[32mPROPN\u001b[0m   is\\\u001b[32mAUX\u001b[0m   a\\\u001b[32mDET\u001b[0m   nice\\\u001b[32mADJ\u001b[0m   search\\\u001b[32mNOUN\u001b[0m   engine\\\u001b[32mNOUN\u001b[0m   .\\\u001b[32mPUNCT\u001b[0m   \n",
            "\n",
            "\n",
            "Correctly\n",
            "does\\\u001b[34mAUX\u001b[0m   anybody\\\u001b[34mPRON\u001b[0m   use\\\u001b[34mVERB\u001b[0m   it\\\u001b[34mPRON\u001b[0m   for\\\u001b[34mADP\u001b[0m   anything\\\u001b[34mPRON\u001b[0m   else\\\u001b[34mADJ\u001b[0m   ?\\\u001b[34mPUNCT\u001b[0m   \n",
            "does\\\u001b[32mAUX\u001b[0m   anybody\\\u001b[32mPRON\u001b[0m   use\\\u001b[32mVERB\u001b[0m   it\\\u001b[32mPRON\u001b[0m   for\\\u001b[32mADP\u001b[0m   anything\\\u001b[32mPRON\u001b[0m   else\\\u001b[32mADJ\u001b[0m   ?\\\u001b[32mPUNCT\u001b[0m   \n",
            "\n",
            "\n",
            "Incorrectly\n",
            "they\\\u001b[34mPRON\u001b[0m   own\\\u001b[34mVERB\u001b[0m   blogger\\\u001b[34mPROPN\u001b[0m   ,\\\u001b[34mPUNCT\u001b[0m   of\\\u001b[34mADV\u001b[0m   course\\\u001b[34mADV\u001b[0m   .\\\u001b[34mPUNCT\u001b[0m   \n",
            "they\\\u001b[31mPRON\u001b[0m   own\\\u001b[31mADJ\u001b[0m   blogger\\\u001b[31mPROPN\u001b[0m   ,\\\u001b[31mPUNCT\u001b[0m   of\\\u001b[31mADP\u001b[0m   course\\\u001b[31mNOUN\u001b[0m   .\\\u001b[31mPUNCT\u001b[0m   \n",
            "\n",
            "\n",
            "Incorrectly\n",
            "is\\\u001b[34mAUX\u001b[0m   that\\\u001b[34mPRON\u001b[0m   a\\\u001b[34mDET\u001b[0m   money\\\u001b[34mNOUN\u001b[0m   maker\\\u001b[34mNOUN\u001b[0m   ?\\\u001b[34mPUNCT\u001b[0m   \n",
            "is\\\u001b[31mVERB\u001b[0m   that\\\u001b[31mSCONJ\u001b[0m   a\\\u001b[31mDET\u001b[0m   money\\\u001b[31mNOUN\u001b[0m   maker\\\u001b[31mNOUN\u001b[0m   ?\\\u001b[31mPUNCT\u001b[0m   \n",
            "\n",
            "\n",
            "Correctly\n",
            "i\\\u001b[34mPRON\u001b[0m   'm\\\u001b[34mAUX\u001b[0m   staying\\\u001b[34mVERB\u001b[0m   away\\\u001b[34mADV\u001b[0m   from\\\u001b[34mADP\u001b[0m   the\\\u001b[34mDET\u001b[0m   stock\\\u001b[34mNOUN\u001b[0m   .\\\u001b[34mPUNCT\u001b[0m   \n",
            "i\\\u001b[32mPRON\u001b[0m   'm\\\u001b[32mAUX\u001b[0m   staying\\\u001b[32mVERB\u001b[0m   away\\\u001b[32mADV\u001b[0m   from\\\u001b[32mADP\u001b[0m   the\\\u001b[32mDET\u001b[0m   stock\\\u001b[32mNOUN\u001b[0m   .\\\u001b[32mPUNCT\u001b[0m   \n",
            "\n",
            "\n"
          ],
          "name": "stdout"
        }
      ]
    },
    {
      "cell_type": "markdown",
      "metadata": {
        "id": "sI6Q2ZQRq2hT",
        "colab_type": "text"
      },
      "source": [
        "## Confusion matrix\n",
        "\n",
        "Here is an confusion matrix, each row and column is labeled as one of the tags. \n",
        "`confusion_matrix[row][column]` represents number of tokens that actually have `row` tag but werewere classified as `column` tag.\n",
        "\n",
        "As we can see, most of the wrong predictions were made on `NOUN` tag, which is the most popular among others.\n",
        "\n",
        "Most of the wrognly classified tokens belongs to tags `VERB`, `ADP`, `ADJ`"
      ]
    },
    {
      "cell_type": "code",
      "metadata": {
        "id": "Uko3NWUDwkvz",
        "colab_type": "code",
        "outputId": "784d8a9b-3cd9-4818-e3c6-270b750226a2",
        "colab": {
          "base_uri": "https://localhost:8080/",
          "height": 629
        }
      },
      "source": [
        "from sklearn.metrics import confusion_matrix\n",
        "import matplotlib.pyplot as plt\n",
        "import pandas as pd\n",
        "import seaborn as sn\n",
        "\n",
        "y_true = [s[1] for s in tokens_classified]\n",
        "y_pred = [s[2] for s in tokens_classified]\n",
        "cm = confusion_matrix(y_true, y_pred, labels=TAGS)\n",
        "\n",
        "df_cm = pd.DataFrame(cm, index=TAGS, columns=TAGS)\n",
        "plt.figure(figsize = (17,10), )\n",
        "sn.heatmap(df_cm, annot=True)"
      ],
      "execution_count": 0,
      "outputs": [
        {
          "output_type": "execute_result",
          "data": {
            "text/plain": [
              "<matplotlib.axes._subplots.AxesSubplot at 0x7efbee4049e8>"
            ]
          },
          "metadata": {
            "tags": []
          },
          "execution_count": 42
        },
        {
          "output_type": "display_data",
          "data": {
            "image/png": "[encoded data removed]",
            "text/plain": [
              "<Figure size 1224x720 with 2 Axes>"
            ]
          },
          "metadata": {
            "tags": []
          }
        }
      ]
    }
  ]
}